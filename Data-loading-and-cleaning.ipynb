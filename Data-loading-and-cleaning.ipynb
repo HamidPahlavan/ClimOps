{
 "cells": [
  {
   "cell_type": "code",
   "execution_count": 250,
   "metadata": {},
   "outputs": [],
   "source": [
    "import pandas as pd\n",
    "import numpy as np"
   ]
  },
  {
   "cell_type": "code",
   "execution_count": 251,
   "metadata": {},
   "outputs": [
    {
     "data": {
      "text/plain": [
       "'\\nThis module uses data from the Yale Climate Opinions Maps 2018 (YCOM)\\nand the 2015 Census to create a joint data set matching Climate opinions\\nto Census data at the County Level.\\n'"
      ]
     },
     "execution_count": 251,
     "metadata": {},
     "output_type": "execute_result"
    }
   ],
   "source": [
    "\"\"\"\n",
    "This module uses data from the Yale Climate Opinions Maps 2018 (YCOM)\n",
    "and the 2015 Census to create a joint data set matching Climate opinions\n",
    "to Census data at the County Level.\n",
    "\"\"\""
   ]
  },
  {
   "cell_type": "code",
   "execution_count": 252,
   "metadata": {},
   "outputs": [],
   "source": [
    "def get_data(filepath):\n",
    "    \"\"\"\n",
    "    Function to read in data and return a dataframe.\n",
    "    Takes in a string that is a filepath to csv file\n",
    "    Returns a dataframe\n",
    "    \"\"\"\n",
    "    df = pd.read_csv(filepath, encoding='latin-1')\n",
    "    return df\n",
    "    \n",
    "     "
   ]
  },
  {
   "cell_type": "code",
   "execution_count": 253,
   "metadata": {},
   "outputs": [
    {
     "data": {
      "text/plain": [
       "array(['National', 'State', 'County', 'cd115', 'CBSA'], dtype=object)"
      ]
     },
     "execution_count": 253,
     "metadata": {},
     "output_type": "execute_result"
    }
   ],
   "source": [
    "ycom['GeoType'].unique()\n"
   ]
  },
  {
   "cell_type": "code",
   "execution_count": null,
   "metadata": {},
   "outputs": [],
   "source": []
  },
  {
   "cell_type": "code",
   "execution_count": 254,
   "metadata": {},
   "outputs": [],
   "source": [
    "def select_geography(ycom_df, geography):\n",
    "    \"\"\"\n",
    "    Helper function for get_ycom_counties\n",
    "    Takes in Data frame of YCOM 2018 data and filters\n",
    "    the rows of data within the given geography: \n",
    "    'National', 'State', 'County', 'cd115', 'CBSA'\n",
    "    \"\"\"\n",
    "    # selecting only the county rows and reseting the index.\n",
    "    ycom_county = ycom_df.loc[ycom_df['GeoType'] == geography]\n",
    "    ycom_county = ycom_county.reset_index(drop=True)\n",
    "    return ycom_county\n",
    "\n",
    "   "
   ]
  },
  {
   "cell_type": "code",
   "execution_count": 274,
   "metadata": {},
   "outputs": [],
   "source": [
    "def fix_ycom_county_names(ycom_county):    \n",
    "    \"\"\"\n",
    "    Function to fix county names to match census.\n",
    "    Takes in Data frame of YCOM 2018 data. Returns data frame with\n",
    "    names of counties separate from states with names in correct format.\n",
    "    \"\"\"\n",
    "    # Separate the county name from the state nme\n",
    "    county_state_sep = pd.DataFrame(ycom_county.GeoName.str.split(',').tolist())\n",
    "    #keep state name in separate column\n",
    "    ycom_county['State'] = county_state_sep[1]\n",
    "    #Keep county names in separate columns\n",
    "    ycom_county['County'] = county_state_sep[0]\n",
    "    #Remove the words county, parish\n",
    "    ycom_county['County'] = ycom_county['County'].str.replace('County', '')\n",
    "    ycom_county['County'] = ycom_county['County'].str.replace('Parish', '')\n",
    "    #remove any extra spaces\n",
    "    ycom_county['County'] = ycom_county['County'].str.strip()\n",
    "    #fix name with special character\n",
    "    ycom_county.iloc[1802,60] = 'Dona Ana'\n",
    "    return ycom_county"
   ]
  },
  {
   "cell_type": "code",
   "execution_count": 275,
   "metadata": {},
   "outputs": [],
   "source": [
    "def get_ycom_counties(ycom_df):\n",
    "    \"\"\"\n",
    "    Function to clean data to obtain only counties in ycom data\n",
    "    and fix names to match census.\n",
    "    Takes in Data frame of YCOM 2018 data \n",
    "    \"\"\"\n",
    "    ycom_county= select_geography(ycom_df, 'County')\n",
    "    ycom_county= fix_ycom_county_names(ycom_county)\n",
    "    return ycom_county\n"
   ]
  },
  {
   "cell_type": "code",
   "execution_count": 276,
   "metadata": {},
   "outputs": [],
   "source": [
    "def get_census_counties(census_df):\n",
    "    \"\"\"\n",
    "    Filter out counties not included in the YCOM DATA\n",
    "    [all areas in the Puerto Rico Territory]\n",
    "    \"\"\"\n",
    "    census = census_df[census_df['State'] != 'Puerto Rico']\n",
    "    #fix name with special character\n",
    "    census.iloc[1802,2] = 'Dona Ana'\n",
    "    return census"
   ]
  },
  {
   "cell_type": "code",
   "execution_count": 277,
   "metadata": {},
   "outputs": [],
   "source": [
    "def join_data(ycom_county, census_county):\n",
    "    \"\"\"\n",
    "    getting one dataframe from the two datasets \n",
    "    \"\"\"\n",
    "\n",
    "    data = pd.concat(([ycom_county,census_county]),axis = 1)\n",
    "    \n",
    "    return data\n"
   ]
  },
  {
   "cell_type": "code",
   "execution_count": 278,
   "metadata": {},
   "outputs": [
    {
     "data": {
      "text/html": [
       "<div>\n",
       "<style scoped>\n",
       "    .dataframe tbody tr th:only-of-type {\n",
       "        vertical-align: middle;\n",
       "    }\n",
       "\n",
       "    .dataframe tbody tr th {\n",
       "        vertical-align: top;\n",
       "    }\n",
       "\n",
       "    .dataframe thead th {\n",
       "        text-align: right;\n",
       "    }\n",
       "</style>\n",
       "<table border=\"1\" class=\"dataframe\">\n",
       "  <thead>\n",
       "    <tr style=\"text-align: right;\">\n",
       "      <th></th>\n",
       "      <th>GeoType</th>\n",
       "      <th>GeoName</th>\n",
       "      <th>TotalPop</th>\n",
       "      <th>happening</th>\n",
       "      <th>happeningOppose</th>\n",
       "      <th>human</th>\n",
       "      <th>humanOppose</th>\n",
       "      <th>consensus</th>\n",
       "      <th>consensusOppose</th>\n",
       "      <th>affectweather</th>\n",
       "      <th>...</th>\n",
       "      <th>governor</th>\n",
       "      <th>governorOppose</th>\n",
       "      <th>localofficials</th>\n",
       "      <th>localofficialsOppose</th>\n",
       "      <th>prienv</th>\n",
       "      <th>prienvOppose</th>\n",
       "      <th>discuss</th>\n",
       "      <th>discussOppose</th>\n",
       "      <th>mediaweekly</th>\n",
       "      <th>mediaweeklyOppose</th>\n",
       "    </tr>\n",
       "  </thead>\n",
       "  <tbody>\n",
       "    <tr>\n",
       "      <th>0</th>\n",
       "      <td>National</td>\n",
       "      <td>US</td>\n",
       "      <td>213649147</td>\n",
       "      <td>70.172</td>\n",
       "      <td>13.633</td>\n",
       "      <td>56.902</td>\n",
       "      <td>31.861</td>\n",
       "      <td>49.454</td>\n",
       "      <td>27.632</td>\n",
       "      <td>61.586</td>\n",
       "      <td>...</td>\n",
       "      <td>55.994</td>\n",
       "      <td>14.826</td>\n",
       "      <td>56.911</td>\n",
       "      <td>14.744</td>\n",
       "      <td>69.651</td>\n",
       "      <td>27.598</td>\n",
       "      <td>35.617</td>\n",
       "      <td>64.240</td>\n",
       "      <td>22.093</td>\n",
       "      <td>76.745</td>\n",
       "    </tr>\n",
       "    <tr>\n",
       "      <th>1</th>\n",
       "      <td>State</td>\n",
       "      <td>Alabama</td>\n",
       "      <td>3261408</td>\n",
       "      <td>63.154</td>\n",
       "      <td>16.532</td>\n",
       "      <td>50.774</td>\n",
       "      <td>37.149</td>\n",
       "      <td>39.295</td>\n",
       "      <td>30.611</td>\n",
       "      <td>52.660</td>\n",
       "      <td>...</td>\n",
       "      <td>52.681</td>\n",
       "      <td>15.861</td>\n",
       "      <td>53.229</td>\n",
       "      <td>15.246</td>\n",
       "      <td>67.488</td>\n",
       "      <td>29.130</td>\n",
       "      <td>28.664</td>\n",
       "      <td>71.261</td>\n",
       "      <td>17.414</td>\n",
       "      <td>81.142</td>\n",
       "    </tr>\n",
       "    <tr>\n",
       "      <th>2</th>\n",
       "      <td>State</td>\n",
       "      <td>Alaska</td>\n",
       "      <td>470699</td>\n",
       "      <td>68.620</td>\n",
       "      <td>16.346</td>\n",
       "      <td>52.169</td>\n",
       "      <td>36.086</td>\n",
       "      <td>47.342</td>\n",
       "      <td>32.421</td>\n",
       "      <td>57.479</td>\n",
       "      <td>...</td>\n",
       "      <td>47.414</td>\n",
       "      <td>17.783</td>\n",
       "      <td>52.812</td>\n",
       "      <td>15.644</td>\n",
       "      <td>69.707</td>\n",
       "      <td>26.013</td>\n",
       "      <td>38.979</td>\n",
       "      <td>60.179</td>\n",
       "      <td>23.234</td>\n",
       "      <td>75.335</td>\n",
       "    </tr>\n",
       "    <tr>\n",
       "      <th>3</th>\n",
       "      <td>State</td>\n",
       "      <td>Arizona</td>\n",
       "      <td>4440635</td>\n",
       "      <td>69.955</td>\n",
       "      <td>15.062</td>\n",
       "      <td>55.654</td>\n",
       "      <td>33.059</td>\n",
       "      <td>49.135</td>\n",
       "      <td>29.271</td>\n",
       "      <td>60.315</td>\n",
       "      <td>...</td>\n",
       "      <td>54.242</td>\n",
       "      <td>15.775</td>\n",
       "      <td>56.810</td>\n",
       "      <td>15.991</td>\n",
       "      <td>69.310</td>\n",
       "      <td>28.514</td>\n",
       "      <td>38.936</td>\n",
       "      <td>60.838</td>\n",
       "      <td>24.705</td>\n",
       "      <td>74.127</td>\n",
       "    </tr>\n",
       "    <tr>\n",
       "      <th>4</th>\n",
       "      <td>State</td>\n",
       "      <td>Arkansas</td>\n",
       "      <td>1973591</td>\n",
       "      <td>63.213</td>\n",
       "      <td>17.783</td>\n",
       "      <td>50.788</td>\n",
       "      <td>36.373</td>\n",
       "      <td>40.364</td>\n",
       "      <td>32.307</td>\n",
       "      <td>53.169</td>\n",
       "      <td>...</td>\n",
       "      <td>51.651</td>\n",
       "      <td>16.544</td>\n",
       "      <td>53.590</td>\n",
       "      <td>16.301</td>\n",
       "      <td>64.031</td>\n",
       "      <td>30.337</td>\n",
       "      <td>30.294</td>\n",
       "      <td>69.547</td>\n",
       "      <td>18.869</td>\n",
       "      <td>79.808</td>\n",
       "    </tr>\n",
       "  </tbody>\n",
       "</table>\n",
       "<p>5 rows × 59 columns</p>\n",
       "</div>"
      ],
      "text/plain": [
       "    GeoType   GeoName   TotalPop  happening  happeningOppose   human  \\\n",
       "0  National        US  213649147     70.172           13.633  56.902   \n",
       "1     State   Alabama    3261408     63.154           16.532  50.774   \n",
       "2     State    Alaska     470699     68.620           16.346  52.169   \n",
       "3     State   Arizona    4440635     69.955           15.062  55.654   \n",
       "4     State  Arkansas    1973591     63.213           17.783  50.788   \n",
       "\n",
       "   humanOppose  consensus  consensusOppose  affectweather        ...          \\\n",
       "0       31.861     49.454           27.632         61.586        ...           \n",
       "1       37.149     39.295           30.611         52.660        ...           \n",
       "2       36.086     47.342           32.421         57.479        ...           \n",
       "3       33.059     49.135           29.271         60.315        ...           \n",
       "4       36.373     40.364           32.307         53.169        ...           \n",
       "\n",
       "   governor  governorOppose  localofficials  localofficialsOppose  prienv  \\\n",
       "0    55.994          14.826          56.911                14.744  69.651   \n",
       "1    52.681          15.861          53.229                15.246  67.488   \n",
       "2    47.414          17.783          52.812                15.644  69.707   \n",
       "3    54.242          15.775          56.810                15.991  69.310   \n",
       "4    51.651          16.544          53.590                16.301  64.031   \n",
       "\n",
       "   prienvOppose  discuss  discussOppose  mediaweekly  mediaweeklyOppose  \n",
       "0        27.598   35.617         64.240       22.093             76.745  \n",
       "1        29.130   28.664         71.261       17.414             81.142  \n",
       "2        26.013   38.979         60.179       23.234             75.335  \n",
       "3        28.514   38.936         60.838       24.705             74.127  \n",
       "4        30.337   30.294         69.547       18.869             79.808  \n",
       "\n",
       "[5 rows x 59 columns]"
      ]
     },
     "execution_count": 278,
     "metadata": {},
     "output_type": "execute_result"
    }
   ],
   "source": [
    "ycom = get_data('YCOM_2018_Data.csv')\n",
    "ycom.head()"
   ]
  },
  {
   "cell_type": "code",
   "execution_count": 279,
   "metadata": {},
   "outputs": [],
   "source": [
    "census = get_data('us-census-demographic-data/acs2015_county_data.csv')"
   ]
  },
  {
   "cell_type": "code",
   "execution_count": 280,
   "metadata": {},
   "outputs": [],
   "source": [
    "ycom_county = get_ycom_counties(ycom)\n",
    "\n",
    "\n",
    "\n",
    "\n",
    "\n",
    "    \n",
    "    "
   ]
  },
  {
   "cell_type": "code",
   "execution_count": 281,
   "metadata": {},
   "outputs": [
    {
     "name": "stderr",
     "output_type": "stream",
     "text": [
      "/home/rdebuen/anaconda3/lib/python3.7/site-packages/pandas/core/indexing.py:543: SettingWithCopyWarning: \n",
      "A value is trying to be set on a copy of a slice from a DataFrame.\n",
      "Try using .loc[row_indexer,col_indexer] = value instead\n",
      "\n",
      "See the caveats in the documentation: http://pandas.pydata.org/pandas-docs/stable/indexing.html#indexing-view-versus-copy\n",
      "  self.obj[item] = s\n"
     ]
    },
    {
     "data": {
      "text/plain": [
       "'County'"
      ]
     },
     "execution_count": 281,
     "metadata": {},
     "output_type": "execute_result"
    }
   ],
   "source": [
    "census_county = get_census_counties(census)\n",
    "census_county.columns[2]"
   ]
  },
  {
   "cell_type": "code",
   "execution_count": 282,
   "metadata": {},
   "outputs": [],
   "source": [
    "data = join_data(ycom_county, census_county)"
   ]
  },
  {
   "cell_type": "code",
   "execution_count": 283,
   "metadata": {},
   "outputs": [
    {
     "data": {
      "text/plain": [
       "3142"
      ]
     },
     "execution_count": 283,
     "metadata": {},
     "output_type": "execute_result"
    }
   ],
   "source": [
    "len(census_county['County'])\n",
    "len(data)"
   ]
  },
  {
   "cell_type": "code",
   "execution_count": 284,
   "metadata": {},
   "outputs": [],
   "source": [
    "# # test if the counties are the same and in order in two datasets.\n",
    "\n",
    "ycom_c  = ycom_county['County'] \n",
    "census_c = census_county['County']\n",
    "\n",
    "for i in range(len(ycom_c)):\n",
    "    if ycom_c[i] != census_c[i]:\n",
    "        print(ycom_c[i] , census_c[i], i)"
   ]
  },
  {
   "cell_type": "code",
   "execution_count": 285,
   "metadata": {},
   "outputs": [
    {
     "data": {
      "text/plain": [
       "3142"
      ]
     },
     "execution_count": 285,
     "metadata": {},
     "output_type": "execute_result"
    }
   ],
   "source": [
    "len(census_county['County'])\n"
   ]
  },
  {
   "cell_type": "code",
   "execution_count": 286,
   "metadata": {},
   "outputs": [
    {
     "name": "stdout",
     "output_type": "stream",
     "text": [
      "Yaaaaay!\n"
     ]
    }
   ],
   "source": [
    "# test if the counties are the same and in order in two datasets.\n",
    "if np.all(ycom_county['County'] == census_county['County']):\n",
    "    print('Yaaaaay!')"
   ]
  },
  {
   "cell_type": "code",
   "execution_count": 287,
   "metadata": {},
   "outputs": [],
   "source": [
    "ycom_county= select_geography(ycom, 'County')"
   ]
  },
  {
   "cell_type": "code",
   "execution_count": 288,
   "metadata": {},
   "outputs": [
    {
     "data": {
      "text/html": [
       "<div>\n",
       "<style scoped>\n",
       "    .dataframe tbody tr th:only-of-type {\n",
       "        vertical-align: middle;\n",
       "    }\n",
       "\n",
       "    .dataframe tbody tr th {\n",
       "        vertical-align: top;\n",
       "    }\n",
       "\n",
       "    .dataframe thead th {\n",
       "        text-align: right;\n",
       "    }\n",
       "</style>\n",
       "<table border=\"1\" class=\"dataframe\">\n",
       "  <thead>\n",
       "    <tr style=\"text-align: right;\">\n",
       "      <th></th>\n",
       "      <th>GeoType</th>\n",
       "      <th>GeoName</th>\n",
       "      <th>TotalPop</th>\n",
       "      <th>happening</th>\n",
       "      <th>happeningOppose</th>\n",
       "      <th>human</th>\n",
       "      <th>humanOppose</th>\n",
       "      <th>consensus</th>\n",
       "      <th>consensusOppose</th>\n",
       "      <th>affectweather</th>\n",
       "      <th>...</th>\n",
       "      <th>governor</th>\n",
       "      <th>governorOppose</th>\n",
       "      <th>localofficials</th>\n",
       "      <th>localofficialsOppose</th>\n",
       "      <th>prienv</th>\n",
       "      <th>prienvOppose</th>\n",
       "      <th>discuss</th>\n",
       "      <th>discussOppose</th>\n",
       "      <th>mediaweekly</th>\n",
       "      <th>mediaweeklyOppose</th>\n",
       "    </tr>\n",
       "  </thead>\n",
       "  <tbody>\n",
       "    <tr>\n",
       "      <th>0</th>\n",
       "      <td>County</td>\n",
       "      <td>Autauga County, Alabama</td>\n",
       "      <td>36466</td>\n",
       "      <td>59.476</td>\n",
       "      <td>19.778</td>\n",
       "      <td>46.971</td>\n",
       "      <td>40.041</td>\n",
       "      <td>36.184</td>\n",
       "      <td>34.858</td>\n",
       "      <td>48.943</td>\n",
       "      <td>...</td>\n",
       "      <td>49.580</td>\n",
       "      <td>18.175</td>\n",
       "      <td>49.963</td>\n",
       "      <td>18.062</td>\n",
       "      <td>64.844</td>\n",
       "      <td>31.935</td>\n",
       "      <td>27.253</td>\n",
       "      <td>72.704</td>\n",
       "      <td>17.977</td>\n",
       "      <td>80.654</td>\n",
       "    </tr>\n",
       "    <tr>\n",
       "      <th>1</th>\n",
       "      <td>County</td>\n",
       "      <td>Baldwin County, Alabama</td>\n",
       "      <td>139946</td>\n",
       "      <td>60.062</td>\n",
       "      <td>21.933</td>\n",
       "      <td>46.129</td>\n",
       "      <td>39.811</td>\n",
       "      <td>35.712</td>\n",
       "      <td>37.552</td>\n",
       "      <td>51.123</td>\n",
       "      <td>...</td>\n",
       "      <td>49.989</td>\n",
       "      <td>18.996</td>\n",
       "      <td>49.431</td>\n",
       "      <td>18.707</td>\n",
       "      <td>64.190</td>\n",
       "      <td>32.827</td>\n",
       "      <td>30.199</td>\n",
       "      <td>69.770</td>\n",
       "      <td>20.694</td>\n",
       "      <td>77.999</td>\n",
       "    </tr>\n",
       "    <tr>\n",
       "      <th>2</th>\n",
       "      <td>County</td>\n",
       "      <td>Barbour County, Alabama</td>\n",
       "      <td>18387</td>\n",
       "      <td>67.862</td>\n",
       "      <td>11.588</td>\n",
       "      <td>51.930</td>\n",
       "      <td>37.128</td>\n",
       "      <td>41.492</td>\n",
       "      <td>25.576</td>\n",
       "      <td>57.897</td>\n",
       "      <td>...</td>\n",
       "      <td>57.231</td>\n",
       "      <td>12.873</td>\n",
       "      <td>58.252</td>\n",
       "      <td>12.874</td>\n",
       "      <td>69.240</td>\n",
       "      <td>27.044</td>\n",
       "      <td>28.029</td>\n",
       "      <td>71.832</td>\n",
       "      <td>16.276</td>\n",
       "      <td>82.001</td>\n",
       "    </tr>\n",
       "    <tr>\n",
       "      <th>3</th>\n",
       "      <td>County</td>\n",
       "      <td>Bibb County, Alabama</td>\n",
       "      <td>15750</td>\n",
       "      <td>58.232</td>\n",
       "      <td>20.045</td>\n",
       "      <td>45.592</td>\n",
       "      <td>41.583</td>\n",
       "      <td>34.476</td>\n",
       "      <td>34.132</td>\n",
       "      <td>49.326</td>\n",
       "      <td>...</td>\n",
       "      <td>48.855</td>\n",
       "      <td>18.132</td>\n",
       "      <td>49.933</td>\n",
       "      <td>17.688</td>\n",
       "      <td>63.812</td>\n",
       "      <td>32.726</td>\n",
       "      <td>25.730</td>\n",
       "      <td>74.147</td>\n",
       "      <td>17.284</td>\n",
       "      <td>81.341</td>\n",
       "    </tr>\n",
       "    <tr>\n",
       "      <th>4</th>\n",
       "      <td>County</td>\n",
       "      <td>Blount County, Alabama</td>\n",
       "      <td>39472</td>\n",
       "      <td>52.956</td>\n",
       "      <td>26.374</td>\n",
       "      <td>44.090</td>\n",
       "      <td>41.153</td>\n",
       "      <td>32.142</td>\n",
       "      <td>38.182</td>\n",
       "      <td>43.864</td>\n",
       "      <td>...</td>\n",
       "      <td>45.248</td>\n",
       "      <td>21.647</td>\n",
       "      <td>45.527</td>\n",
       "      <td>21.559</td>\n",
       "      <td>61.112</td>\n",
       "      <td>35.662</td>\n",
       "      <td>26.064</td>\n",
       "      <td>73.849</td>\n",
       "      <td>18.272</td>\n",
       "      <td>80.696</td>\n",
       "    </tr>\n",
       "  </tbody>\n",
       "</table>\n",
       "<p>5 rows × 59 columns</p>\n",
       "</div>"
      ],
      "text/plain": [
       "  GeoType                  GeoName  TotalPop  happening  happeningOppose  \\\n",
       "0  County  Autauga County, Alabama     36466     59.476           19.778   \n",
       "1  County  Baldwin County, Alabama    139946     60.062           21.933   \n",
       "2  County  Barbour County, Alabama     18387     67.862           11.588   \n",
       "3  County     Bibb County, Alabama     15750     58.232           20.045   \n",
       "4  County   Blount County, Alabama     39472     52.956           26.374   \n",
       "\n",
       "    human  humanOppose  consensus  consensusOppose  affectweather  \\\n",
       "0  46.971       40.041     36.184           34.858         48.943   \n",
       "1  46.129       39.811     35.712           37.552         51.123   \n",
       "2  51.930       37.128     41.492           25.576         57.897   \n",
       "3  45.592       41.583     34.476           34.132         49.326   \n",
       "4  44.090       41.153     32.142           38.182         43.864   \n",
       "\n",
       "         ...          governor  governorOppose  localofficials  \\\n",
       "0        ...            49.580          18.175          49.963   \n",
       "1        ...            49.989          18.996          49.431   \n",
       "2        ...            57.231          12.873          58.252   \n",
       "3        ...            48.855          18.132          49.933   \n",
       "4        ...            45.248          21.647          45.527   \n",
       "\n",
       "   localofficialsOppose  prienv  prienvOppose  discuss  discussOppose  \\\n",
       "0                18.062  64.844        31.935   27.253         72.704   \n",
       "1                18.707  64.190        32.827   30.199         69.770   \n",
       "2                12.874  69.240        27.044   28.029         71.832   \n",
       "3                17.688  63.812        32.726   25.730         74.147   \n",
       "4                21.559  61.112        35.662   26.064         73.849   \n",
       "\n",
       "   mediaweekly  mediaweeklyOppose  \n",
       "0       17.977             80.654  \n",
       "1       20.694             77.999  \n",
       "2       16.276             82.001  \n",
       "3       17.284             81.341  \n",
       "4       18.272             80.696  \n",
       "\n",
       "[5 rows x 59 columns]"
      ]
     },
     "execution_count": 288,
     "metadata": {},
     "output_type": "execute_result"
    }
   ],
   "source": [
    "ycom_county.head()\n"
   ]
  },
  {
   "cell_type": "code",
   "execution_count": 289,
   "metadata": {},
   "outputs": [],
   "source": [
    "ycom_county= select_geography(ycom, 'County')"
   ]
  },
  {
   "cell_type": "code",
   "execution_count": 80,
   "metadata": {},
   "outputs": [],
   "source": [
    "ycom_county.head()"
   ]
  },
  {
   "cell_type": "code",
   "execution_count": null,
   "metadata": {},
   "outputs": [],
   "source": []
  }
 ],
 "metadata": {
  "kernelspec": {
   "display_name": "Python 3",
   "language": "python",
   "name": "python3"
  },
  "language_info": {
   "codemirror_mode": {
    "name": "ipython",
    "version": 3
   },
   "file_extension": ".py",
   "mimetype": "text/x-python",
   "name": "python",
   "nbconvert_exporter": "python",
   "pygments_lexer": "ipython3",
   "version": "3.7.0"
  }
 },
 "nbformat": 4,
 "nbformat_minor": 2
}
