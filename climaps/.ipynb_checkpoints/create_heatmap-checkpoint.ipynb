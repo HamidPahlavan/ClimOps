{
 "cells": [
  {
   "cell_type": "code",
   "execution_count": 1,
   "metadata": {
    "collapsed": true
   },
   "outputs": [],
   "source": [
    "# Standard library imports\n",
    "\n",
    "# Third party imports\n",
    "import pandas as pd\n",
    "import numpy as np\n",
    "import seaborn as sns\n",
    "from scipy.stats import linregress\n",
    "import matplotlib.pyplot as plt\n",
    "import matplotlib.cm as cm \n",
    "from matplotlib.colors import ListedColormap\n",
    "# Bokeh imports\n",
    "from bokeh.io import output_file, output_notebook, reset_output, show\n",
    "from bokeh.layouts import row, column, widgetbox\n",
    "from bokeh.models.widgets import Select,Panel, Tabs\n",
    "from bokeh.models import BasicTicker, ColorBar, CustomJS, ColumnDataSource, LinearAxis, LinearColorMapper\n",
    "from bokeh.palettes import RdBu\n",
    "from bokeh.plotting import figure, save\n",
    "from bokeh.transform import transform\n",
    "\n",
    "# Local imports\n",
    "import calculate_statistics\n",
    "import prepare_data\n",
    "import plot_heatmap"
   ]
  },
  {
   "cell_type": "code",
   "execution_count": 2,
   "metadata": {
    "collapsed": true
   },
   "outputs": [],
   "source": [
    "# this stops outputting to a file just in case it has been started\n",
    "#reset_output()\n",
    "# this puts output within notebook\n",
    "#output_notebook()\n",
    "# this stops notebook server stopping sending output\n",
    "# jupyter notebook --NotebookApp.iopub_data_rate_limit=10000000000\n",
    "\n",
    "output_file(\"heatmap.html\")"
   ]
  },
  {
   "cell_type": "code",
   "execution_count": 3,
   "metadata": {
    "collapsed": true
   },
   "outputs": [],
   "source": [
    "# Preparing census data\n",
    "\n",
    "# Loading census data\n",
    "census = pd.read_csv('../data/acs2015_county_data.csv')\n",
    "\n",
    "# Scaling Men, Women, Employed and Citizen by TotalPop to get a percentage\n",
    "census = prepare_data.scale_census_variables(census)\n",
    "\n",
    "# Removing counties not in ycom data (i.e. puerto rico)\n",
    "census = prepare_data.remove_census_not_in_ycom(census)\n",
    "\n",
    "# Removing counties not in land area data\n",
    "census = prepare_data.remove_not_in_land_area(census)\n",
    "\n",
    "# Getting list of census variables\n",
    "n_census = list(census)[3:]"
   ]
  },
  {
   "cell_type": "code",
   "execution_count": 4,
   "metadata": {},
   "outputs": [],
   "source": [
    "# Preparing YCOM data\n",
    "\n",
    "# Loading ycom data\n",
    "ycom = pd.read_csv('../data/YCOM_2018_Data.csv', encoding='latin-1')\n",
    "ycom_meta = pd.read_csv('../data/YCOM_2018_Metadata.csv', encoding='latin-1')\n",
    "\n",
    "# Get county level data matching census county names\n",
    "ycom_county = prepare_data.get_ycom_counties(ycom)\n",
    "\n",
    "# Removing counties not in land area data\n",
    "ycom_county = prepare_data.remove_not_in_land_area(ycom_county)\n",
    "\n",
    "# Getting list of YCOM variables\n",
    "n_ycom = list(ycom_county)[3:-2]\n",
    "\n",
    "# Editing and getting list of YCOM variable descriptions\n",
    "ycom_meta = prepare_data.fix_ycom_descriptions(ycom_meta)\n",
    "n_ycom_meta = list(ycom_meta['VARIABLE DESCRIPTION'])[3:] "
   ]
  },
  {
   "cell_type": "code",
   "execution_count": 5,
   "metadata": {},
   "outputs": [
    {
     "name": "stderr",
     "output_type": "stream",
     "text": [
      "/Users/robin/Desktop/Classes/Python/Climate opinions/project/climaps/prepare_data.py:150: SettingWithCopyWarning: \n",
      "A value is trying to be set on a copy of a slice from a DataFrame.\n",
      "Try using .loc[row_indexer,col_indexer] = value instead\n",
      "\n",
      "See the caveats in the documentation: http://pandas.pydata.org/pandas-docs/stable/indexing.html#indexing-view-versus-copy\n",
      "  land_area_data['County'] = land_area_county\n"
     ]
    }
   ],
   "source": [
    "# Preparing land area data\n",
    "\n",
    "# Loading land_area_data\n",
    "land_area_data = pd.read_excel('../data/LND01.xls')\n",
    "\n",
    "# Selecting only counties\n",
    "land_area_data = prepare_data.select_land_area_county(land_area_data)\n",
    "\n",
    "# Removing rows which are in land area but not census\n",
    "land_area_data = prepare_data.remove_land_area_not_in_census(land_area_data)\n",
    "\n",
    "# Fixing land area data county names so that they match those in census data\n",
    "land_area_data = prepare_data.fix_land_area_county_names(land_area_data, census)\n",
    "\n",
    "# Adding land area values where missing\n",
    "land_area_data = prepare_data.add_missing_land_areas(land_area_data)"
   ]
  },
  {
   "cell_type": "code",
   "execution_count": 6,
   "metadata": {},
   "outputs": [
    {
     "name": "stdout",
     "output_type": "stream",
     "text": [
      "Cool, lets put this in the unit tests\n",
      "Cool, lets put this in the unit tests\n"
     ]
    },
    {
     "data": {
      "text/plain": [
       "Series([], Name: County, dtype: object)"
      ]
     },
     "execution_count": 6,
     "metadata": {},
     "output_type": "execute_result"
    }
   ],
   "source": [
    "# Things to use in unit tests\n",
    "\n",
    "# Testing if the counties are the same and in order for ycom and census\n",
    "if np.all(ycom_county['County'] == census['County']):\n",
    "    print('Cool, lets put this in the unit tests')\n",
    "    \n",
    "# Testing if the counties are the same and in order for land area and census\n",
    "if np.all(land_area_data['County'] == census['County']):\n",
    "    print('Cool, lets put this in the unit tests')\n",
    "    \n",
    "# Backup test, shows non matching county names and indices if there area any\n",
    "pd.concat([land_area_data['County'],census['County']]).drop_duplicates(keep=False)"
   ]
  },
  {
   "cell_type": "code",
   "execution_count": 7,
   "metadata": {},
   "outputs": [],
   "source": [
    "# Getting one dataframe from the three datasets \n",
    "n_census.append('LogPopDensity')\n",
    "combined_data = prepare_data.join_data(ycom_county, census, land_area_data)"
   ]
  },
  {
   "cell_type": "code",
   "execution_count": 8,
   "metadata": {
    "collapsed": true
   },
   "outputs": [],
   "source": [
    "# Generate correlation (R), regression (b) and pvalues for relationships between variables\n",
    "n_ycom, n_census\n",
    "stats_outputs = calculate_statistics.calculate_stats_outputs(n_ycom, n_census, ycom_county, census)\n",
    "stats_outputs_standard =  calculate_statistics.calculate_stats_outputs_standard(n_ycom, n_census, ycom_county, census)"
   ]
  },
  {
   "cell_type": "code",
   "execution_count": 9,
   "metadata": {
    "collapsed": true
   },
   "outputs": [],
   "source": [
    "#making dataframe of regression coefficients\n",
    "#these are kinda standardized\n",
    "#i.e. they show what % change in an opinion is given a 1 standard deviation change in a census variable\n",
    "regs = pd.DataFrame(stats_outputs_standard[:,:,0], columns=n_census, index=n_ycom)\n",
    "\n",
    "#making dataframe of correlation coefficients\n",
    "cors = pd.DataFrame(stats_outputs[:,:,2], columns=n_census, index=n_ycom)\n",
    "\n",
    "#making dataframes of pvalues\n",
    "pval = pd.DataFrame(stats_outputs[:,:,3], columns=n_census, index=n_ycom)"
   ]
  },
  {
   "cell_type": "code",
   "execution_count": 10,
   "metadata": {
    "collapsed": true
   },
   "outputs": [],
   "source": [
    "# Prepare dataframe in the right format for heatmap\n",
    "all_stack = plot_heatmap.stack_stats(cors, regs, pval)"
   ]
  },
  {
   "cell_type": "code",
   "execution_count": 12,
   "metadata": {},
   "outputs": [
    {
     "data": {
      "text/plain": [
       "'/Users/robin/Desktop/Classes/Python/Climate opinions/project/climaps/heatmap.html'"
      ]
     },
     "execution_count": 12,
     "metadata": {},
     "output_type": "execute_result"
    }
   ],
   "source": [
    "# Create and plot heatmap of either 'R' (correlation), 'b' (regression) or 'pval' (p value) statistics\n",
    "heatmap_plot_r = plot_heatmap.create_heatmap_fig(all_stack,'R')\n",
    "tab1 = Panel(child = heatmap_plot_r,title = 'Correlation')\n",
    "\n",
    "heatmap_plot_b = plot_heatmap.create_heatmap_fig(all_stack,'b')\n",
    "tab2 = Panel(child = heatmap_plot_b,title = 'Regression')\n",
    "\n",
    "heatmap_plot_p = plot_heatmap.create_heatmap_fig(all_stack,'pval')\n",
    "tab3 = Panel(child = heatmap_plot_p,title = 'p value')\n",
    "\n",
    "tabs = Tabs(tabs=[tab1,tab2,tab3])\n",
    "show(tabs)\n",
    "\n",
    "save(obj=tabs,filename='heatmap.html')"
   ]
  },
  {
   "cell_type": "code",
   "execution_count": 13,
   "metadata": {},
   "outputs": [
    {
     "data": {
      "text/plain": [
       "'/Users/robin/Desktop/Classes/Python/Climate opinions/project/climaps/scatter.html'"
      ]
     },
     "execution_count": 13,
     "metadata": {},
     "output_type": "execute_result"
    }
   ],
   "source": [
    "# Interactive scatter plots\n",
    "output_file(\"scatter.html\")\n",
    "\n",
    "# Creating extra columns which are going to be filled with whatever data is chosen from dropdown\n",
    "combined_data['x'] = 99\n",
    "combined_data['y'] = 99\n",
    "\n",
    "# Setting sources for scatter plots\n",
    "# (Taking every other data point because otherwise too much memory is used)\n",
    "source = ColumnDataSource(combined_data[1::2])\n",
    "source_ycom_meta = ColumnDataSource(ycom_meta)\n",
    "\n",
    "# Generating scatter plot\n",
    "scatter_plot = figure(plot_width=350, plot_height=350)\n",
    "scatter_plot.scatter('x', 'y', source=source)\n",
    "    \n",
    "# Adding some axes that can have their labels dynamically updated\n",
    "scatter_plot.xaxis.visible = None\n",
    "scatter_plot.yaxis.visible = None\n",
    "xaxis = LinearAxis(axis_label=\"Census Variable\")\n",
    "yaxis = LinearAxis(axis_label=\"YCOM Variable\")\n",
    "scatter_plot.add_layout(xaxis, 'below')\n",
    "scatter_plot.add_layout(yaxis, 'left')\n",
    "\n",
    "# Creating javascript callbacks allowing for scatter plot to automatically update\n",
    "callback_census = plot_heatmap.set_callback_census(source, xaxis)\n",
    "callback_ycom = plot_heatmap.set_callback_ycom(source, yaxis, source_ycom_meta)\n",
    "\n",
    "# Setting up dropdowns\n",
    "census_menu = plot_heatmap.create_dropdown_census(n_census, callback_census)\n",
    "ycom_menu = plot_heatmap.create_dropdown_ycom(n_ycom_meta, callback_ycom)\n",
    "\n",
    "# Plotting scatter\n",
    "layout_scatter=column(census_menu, ycom_menu, scatter_plot)\n",
    "show(layout_scatter)\n",
    "\n",
    "save(obj=layout_scatter, filename='scatter.html')"
   ]
  },
  {
   "cell_type": "code",
   "execution_count": 1,
   "metadata": {},
   "outputs": [],
   "source": [
    "# Showing whole figure (only works for plotting in notebook)\n",
    "#layout_rhs=column(census_menu, ycom_menu,scatter_plot)\n",
    "#show(row(tabs,layout_rhs))\n",
    "#show(column(census_menu, ycom_menu, scatter_plot))\n",
    "#save(obj=layout_rhs,filename='scatter.html')"
   ]
  },
  {
   "cell_type": "code",
   "execution_count": 16,
   "metadata": {
    "collapsed": true
   },
   "outputs": [],
   "source": [
    "# to-do list:\n",
    "# Add best fit line to scatter (probably will have to add another source)\n",
    "# Add units to plot_scatter axis labels for census\n",
    "# Add more thorough descriptions of variables on hoverover \n",
    "    #use ycom_meta['VARIABLE DESCRIPTION'][ycom_meta['YCOM VARIABLE NAME']=='TotalPop']\n",
    "# Add a display of R, P, regr for combo of variables on plot_scatter\n",
    "# https://stackoverflow.com/questions/46884648/storing-3-dimensional-data-in-pandas-dataframe\n",
    "\n",
    "# Ok, so to do option of having heatmap for regression coefficient/heatmap based on button:\n",
    "# Can put in multiple sources right? So have one source be cors, one be regs, one be pvals\n",
    "# Have a dummy variable which is updated from one of these sources depending on the button that is pressed\n",
    "\n",
    "# would be cool if hovering over a point on the scatter map showed the county/state"
   ]
  },
  {
   "cell_type": "code",
   "execution_count": null,
   "metadata": {
    "collapsed": true
   },
   "outputs": [],
   "source": []
  }
 ],
 "metadata": {
  "kernelspec": {
   "display_name": "Python 3",
   "language": "python",
   "name": "python3"
  },
  "language_info": {
   "codemirror_mode": {
    "name": "ipython",
    "version": 3
   },
   "file_extension": ".py",
   "mimetype": "text/x-python",
   "name": "python",
   "nbconvert_exporter": "python",
   "pygments_lexer": "ipython3",
   "version": "3.6.1"
  }
 },
 "nbformat": 4,
 "nbformat_minor": 2
}
