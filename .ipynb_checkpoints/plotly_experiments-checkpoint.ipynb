{
 "cells": [
  {
   "cell_type": "code",
   "execution_count": 128,
   "metadata": {},
   "outputs": [
    {
     "data": {
      "text/html": [
       "<script type=\"text/javascript\">window.PlotlyConfig = {MathJaxConfig: 'local'};</script><script type=\"text/javascript\">if (window.MathJax) {MathJax.Hub.Config({SVG: {font: \"STIX-Web\"}});}</script><script>requirejs.config({paths: { 'plotly': ['https://cdn.plot.ly/plotly-latest.min']},});if(!window._Plotly) {require(['plotly'],function(plotly) {window._Plotly=plotly;});}</script>"
      ],
      "text/vnd.plotly.v1+html": [
       "<script type=\"text/javascript\">window.PlotlyConfig = {MathJaxConfig: 'local'};</script><script type=\"text/javascript\">if (window.MathJax) {MathJax.Hub.Config({SVG: {font: \"STIX-Web\"}});}</script><script>requirejs.config({paths: { 'plotly': ['https://cdn.plot.ly/plotly-latest.min']},});if(!window._Plotly) {require(['plotly'],function(plotly) {window._Plotly=plotly;});}</script>"
      ]
     },
     "metadata": {},
     "output_type": "display_data"
    }
   ],
   "source": [
    "# import packages\n",
    "import pandas as pd\n",
    "import numpy as np\n",
    "import seaborn as sns\n",
    "from scipy.stats import linregress\n",
    "import matplotlib.pyplot as plt\n",
    "import matplotlib.cm as cm \n",
    "from matplotlib.colors import ListedColormap\n",
    "import plotly\n",
    "import plotly.plotly as py\n",
    "import plotly.figure_factory as ff\n",
    "import plotly.graph_objs as go\n",
    "import plotly.tools as tls\n",
    "plotly.offline.init_notebook_mode(connected=True)"
   ]
  },
  {
   "cell_type": "code",
   "execution_count": 145,
   "metadata": {
    "collapsed": true
   },
   "outputs": [],
   "source": [
    "import dash\n",
    "import dash_core_components as dcc\n",
    "import dash_html_components as html"
   ]
  },
  {
   "cell_type": "code",
   "execution_count": 12,
   "metadata": {},
   "outputs": [],
   "source": [
    "# loading datasets\n",
    "ycom = pd.read_csv('YCOM_2018_Data.csv', encoding='latin-1')\n",
    "census = pd.read_csv('us-census-demographic-data/acs2015_county_data.csv')"
   ]
  },
  {
   "cell_type": "code",
   "execution_count": 13,
   "metadata": {
    "collapsed": true
   },
   "outputs": [],
   "source": [
    "# Deselct Puerto Rico from census, since Ycom data doesn't cover this state.\n",
    "census = census.iloc[:3142]"
   ]
  },
  {
   "cell_type": "code",
   "execution_count": 14,
   "metadata": {
    "collapsed": true
   },
   "outputs": [],
   "source": [
    "# selecting only the county rows and reseting the index.\n",
    "ycom_county = ycom.loc[ycom['GeoType'] == 'County']\n",
    "ycom_county = ycom_county.reset_index(drop=True)"
   ]
  },
  {
   "cell_type": "code",
   "execution_count": 15,
   "metadata": {
    "collapsed": true
   },
   "outputs": [],
   "source": [
    "#ycom_county[['County','happening','TotalPop']]"
   ]
  },
  {
   "cell_type": "code",
   "execution_count": 16,
   "metadata": {
    "collapsed": true
   },
   "outputs": [],
   "source": [
    "# Separating the counties and states from 'GeoType' column and add those as\n",
    "# separated columns to the 'ycom_county' dataframe.\n",
    "county_state_sep = pd.DataFrame(ycom_county.GeoName.str.split(',').tolist())\n",
    "ycom_county['State'] = county_state_sep[1]\n",
    "ycom_county['County'] = county_state_sep[0]"
   ]
  },
  {
   "cell_type": "code",
   "execution_count": 17,
   "metadata": {
    "collapsed": true
   },
   "outputs": [],
   "source": [
    "# Dropping 'county' and 'Parish' words and the last whitespace\n",
    "# from the counties.\n",
    "ycom_county['County'] = ycom_county['County'].str.replace('County', '')\n",
    "ycom_county['County'] = ycom_county['County'].str.replace('Parish', '')\n",
    "ycom_county['County'] = ycom_county['County'].str.strip()"
   ]
  },
  {
   "cell_type": "code",
   "execution_count": 18,
   "metadata": {},
   "outputs": [
    {
     "name": "stdout",
     "output_type": "stream",
     "text": [
      "Yaaaaay!\n"
     ]
    }
   ],
   "source": [
    "# test if the counties are the same and in order in two datasets.\n",
    "if np.all(ycom_county['County'] == census['County']):\n",
    "    print('Yaaaaay!')"
   ]
  },
  {
   "cell_type": "code",
   "execution_count": 20,
   "metadata": {},
   "outputs": [],
   "source": [
    "# getting one dataframe from the two datasets \n",
    "data2 = pd.concat(([ycom_county,census]),axis = 1)"
   ]
  },
  {
   "cell_type": "code",
   "execution_count": 171,
   "metadata": {
    "collapsed": true
   },
   "outputs": [],
   "source": [
    "n_ycom = list(ycom_county)[3:-2]\n",
    "n_census = list(census)[4:]"
   ]
  },
  {
   "cell_type": "code",
   "execution_count": 22,
   "metadata": {},
   "outputs": [
    {
     "name": "stdout",
     "output_type": "stream",
     "text": [
      "size of stats array created\n",
      "#ycom,#census,#stattypes\n",
      "(56, 33, 5)\n"
     ]
    }
   ],
   "source": [
    "#Pearson's correlation coefficient,2-tailed p-value\n",
    "stats_outputs = np.zeros((len(n_ycom),len(n_census),5))\n",
    "stats_outputs_standard = np.zeros((len(n_ycom),len(n_census),5))\n",
    "for x in range(len(n_ycom)):\n",
    "    for y in range(len(n_census)):\n",
    "        #nans when ny (census) index is 9,10,14 ie. income, incomeErr, childpoverty\n",
    "        #reason is Loving Texas (not kidding), ind=2673, a county with no data for these variables\n",
    "        #census.Income is same as #census[ny[9]]\n",
    "        #n.b. if missing values are in census for given variable then county is ignored for that calculation\n",
    "        ycom_notnull = ycom_county[n_ycom[x]][census[n_census[y]].notnull()]\n",
    "        census_notnull = census[n_census[y]][census[n_census[y]].notnull()]\n",
    "        \n",
    "        #also doing calculations on standardized variables #standardized_column = (column - mean(column)) / std(column)\n",
    "        ycom_standard = (ycom_notnull - np.mean(ycom_notnull)) / np.std(ycom_notnull)\n",
    "        census_standard = (census_notnull - np.mean(census_notnull)) / np.std(census_notnull)\n",
    "        \n",
    "        \n",
    "        stats_outputs[x,y,:] = linregress(ycom_notnull, census_notnull)\n",
    "        stats_outputs_standard[x,y,:] = linregress(ycom_standard, census_standard)\n",
    "        \n",
    "\n",
    "print('size of stats array created')        \n",
    "print('#ycom,#census,#stattypes')        \n",
    "print(stats_outputs.shape)"
   ]
  },
  {
   "cell_type": "code",
   "execution_count": 23,
   "metadata": {
    "collapsed": true
   },
   "outputs": [],
   "source": [
    "color_map = plt.cm.RdYlBu(np.linspace(0, 1.1, 20))\n",
    "color_map = ListedColormap(color_map[::-1]) \n",
    "\n",
    "color_map_1 = plt.cm.hot(np.linspace(0, 1.1, 20))\n",
    "color_map_1 = ListedColormap(color_map_1[::-1]) "
   ]
  },
  {
   "cell_type": "code",
   "execution_count": 26,
   "metadata": {},
   "outputs": [
    {
     "data": {
      "text/plain": [
       "Heatmap({\n",
       "    'z': [[1, 20, 30], [20, 1, 60], [30, 60, 1]]\n",
       "})"
      ]
     },
     "execution_count": 26,
     "metadata": {},
     "output_type": "execute_result"
    }
   ],
   "source": [
    "trace = go.Heatmap(z=[[1, 20, 30],\n",
    "                      [20, 1, 60],\n",
    "                      [30, 60, 1]])\n",
    "trace"
   ]
  },
  {
   "cell_type": "code",
   "execution_count": 29,
   "metadata": {},
   "outputs": [
    {
     "data": {
      "text/plain": [
       "[Heatmap({\n",
       "     'z': [[1, 20, 30], [20, 1, 60], [30, 60, 1]]\n",
       " })]"
      ]
     },
     "execution_count": 29,
     "metadata": {},
     "output_type": "execute_result"
    }
   ],
   "source": [
    "data=[trace]\n",
    "data"
   ]
  },
  {
   "cell_type": "code",
   "execution_count": 84,
   "metadata": {},
   "outputs": [
    {
     "ename": "AttributeError",
     "evalue": "'tuple' object has no attribute 'font'",
     "output_type": "error",
     "traceback": [
      "\u001b[0;31m---------------------------------------------------------------------------\u001b[0m",
      "\u001b[0;31mAttributeError\u001b[0m                            Traceback (most recent call last)",
      "\u001b[0;32m<ipython-input-84-c9c13273126b>\u001b[0m in \u001b[0;36m<module>\u001b[0;34m()\u001b[0m\n\u001b[1;32m      8\u001b[0m \u001b[0mz\u001b[0m\u001b[0;34m=\u001b[0m\u001b[0mstats_outputs\u001b[0m\u001b[0;34m[\u001b[0m\u001b[0;34m:\u001b[0m\u001b[0;34m,\u001b[0m\u001b[0;34m:\u001b[0m\u001b[0;34m,\u001b[0m\u001b[0;36m2\u001b[0m\u001b[0;34m]\u001b[0m\u001b[0;34m\u001b[0m\u001b[0m\n\u001b[1;32m      9\u001b[0m \u001b[0mfig\u001b[0m \u001b[0;34m=\u001b[0m \u001b[0mff\u001b[0m\u001b[0;34m.\u001b[0m\u001b[0mcreate_annotated_heatmap\u001b[0m\u001b[0;34m(\u001b[0m\u001b[0mz\u001b[0m\u001b[0;34m)\u001b[0m\u001b[0;34m\u001b[0m\u001b[0m\n\u001b[0;32m---> 10\u001b[0;31m \u001b[0mfig\u001b[0m\u001b[0;34m.\u001b[0m\u001b[0mlayout\u001b[0m\u001b[0;34m.\u001b[0m\u001b[0mannotations\u001b[0m\u001b[0;34m[\u001b[0m\u001b[0;34m:\u001b[0m\u001b[0;34m]\u001b[0m\u001b[0;34m.\u001b[0m\u001b[0mfont\u001b[0m\u001b[0;34m.\u001b[0m\u001b[0msize\u001b[0m\u001b[0;34m=\u001b[0m\u001b[0;36m0\u001b[0m\u001b[0;34m\u001b[0m\u001b[0m\n\u001b[0m\u001b[1;32m     11\u001b[0m \u001b[0mpy\u001b[0m\u001b[0;34m.\u001b[0m\u001b[0miplot\u001b[0m\u001b[0;34m(\u001b[0m\u001b[0mfig\u001b[0m\u001b[0;34m,\u001b[0m \u001b[0mfilename\u001b[0m\u001b[0;34m=\u001b[0m\u001b[0;34m'annotated_heatmap'\u001b[0m\u001b[0;34m,\u001b[0m\u001b[0mannotation_text\u001b[0m\u001b[0;34m=\u001b[0m\u001b[0;34m''\u001b[0m\u001b[0;34m)\u001b[0m\u001b[0;34m\u001b[0m\u001b[0m\n\u001b[1;32m     12\u001b[0m \u001b[0;31m#})\u001b[0m\u001b[0;34m\u001b[0m\u001b[0;34m\u001b[0m\u001b[0m\n",
      "\u001b[0;31mAttributeError\u001b[0m: 'tuple' object has no attribute 'font'"
     ]
    }
   ],
   "source": [
    "#\n",
    "#data = [go.Heatmap( z=stats_outputs[:,:,2].tolist(), colorscale='Viridis')]\n",
    "#data=[trace]\n",
    "#py.iplot(data)\n",
    "#\n",
    "\n",
    "#plotly.offline.iplot({\n",
    "z=stats_outputs[:,:,2]\n",
    "fig = ff.create_annotated_heatmap(z)\n",
    "py.iplot(fig, filename='annotated_heatmap',annotation_text='')\n",
    "#})"
   ]
  },
  {
   "cell_type": "code",
   "execution_count": 126,
   "metadata": {},
   "outputs": [
    {
     "data": {
      "text/html": [
       "<iframe id=\"igraph\" scrolling=\"no\" style=\"border:none;\" seamless=\"seamless\" src=\"https://plot.ly/~rpclancy/56.embed\" height=\"525px\" width=\"100%\"></iframe>"
      ],
      "text/plain": [
       "<plotly.tools.PlotlyDisplay object>"
      ]
     },
     "execution_count": 126,
     "metadata": {},
     "output_type": "execute_result"
    }
   ],
   "source": [
    "data=[go.Heatmap(z=stats_outputs[:,:,2], x=n_census, y=n_ycom, colorscale = 'Portland')]\n",
    "layout=go.layout.Image(sizex=100, sizey=100)\n",
    "py.iplot(data,layout=layout)"
   ]
  },
  {
   "cell_type": "code",
   "execution_count": 144,
   "metadata": {},
   "outputs": [
    {
     "data": {
      "text/html": [
       "<iframe id=\"igraph\" scrolling=\"no\" style=\"border:none;\" seamless=\"seamless\" src=\"https://plot.ly/~rpclancy/78.embed\" height=\"500px\" width=\"500px\"></iframe>"
      ],
      "text/plain": [
       "<plotly.tools.PlotlyDisplay object>"
      ]
     },
     "execution_count": 144,
     "metadata": {},
     "output_type": "execute_result"
    }
   ],
   "source": [
    "fig = plt.figure()\n",
    "ax = fig.add_subplot(111)\n",
    "ax.set_title('Testing')\n",
    "plotly_fig = tls.mpl_to_plotly( fig )\n",
    "trace = dict(z=stats_outputs[:,:,2], type=\"heatmap\", zmin=-1, zmax=1, colorscale = 'Portland')\n",
    "plotly_fig.add_traces([trace])\n",
    "plotly_fig['layout']['xaxis'].update({'autorange':True})\n",
    "plotly_fig['layout']['yaxis'].update({'autorange':True})\n",
    "plotly_fig['layout'].update({'height':500})\n",
    "plotly_fig['layout'].update({'width':500})\n",
    "py.iplot(plotly_fig)"
   ]
  },
  {
   "cell_type": "code",
   "execution_count": 146,
   "metadata": {
    "collapsed": true
   },
   "outputs": [],
   "source": [
    "#hey check this out for interactive stuff https://dash.plot.ly/interactive-graphing"
   ]
  },
  {
   "cell_type": "code",
   "execution_count": 178,
   "metadata": {},
   "outputs": [
    {
     "ename": "SyntaxError",
     "evalue": "invalid syntax (<ipython-input-178-8346a9264d24>, line 58)",
     "output_type": "error",
     "traceback": [
      "\u001b[0;36m  File \u001b[0;32m\"<ipython-input-178-8346a9264d24>\"\u001b[0;36m, line \u001b[0;32m58\u001b[0m\n\u001b[0;31m    }\u001b[0m\n\u001b[0m    ^\u001b[0m\n\u001b[0;31mSyntaxError\u001b[0m\u001b[0;31m:\u001b[0m invalid syntax\n"
     ]
    }
   ],
   "source": [
    "external_stylesheets = ['https://codepen.io/chriddyp/pen/bWLwgP.css']\n",
    "\n",
    "app = dash.Dash(__name__, external_stylesheets=external_stylesheets)\n",
    "\n",
    "app.layout = html.Div([\n",
    "    html.Div([\n",
    "\n",
    "        html.Div([\n",
    "            dcc.Dropdown(\n",
    "                id='crossfilter-xaxis-column',\n",
    "                options=[{'label': i, 'value': i} for i in n_census],\n",
    "                value='Men'\n",
    "            ),\n",
    "        ],\n",
    "        style={'width': '49%', 'display': 'inline-block'}),\n",
    "\n",
    "        html.Div([\n",
    "            dcc.Dropdown(\n",
    "                id='crossfilter-yaxis-column',\n",
    "                options=[{'label': i, 'value': i} for i in n_ycom],\n",
    "                value='happening'\n",
    "            ),\n",
    "        ], style={'width': '49%', 'float': 'right', 'display': 'inline-block'})\n",
    "    ], style={\n",
    "        'borderBottom': 'thin lightgrey solid',\n",
    "        'backgroundColor': 'rgb(250, 250, 250)',\n",
    "        'padding': '10px 5px'\n",
    "    }),\n",
    "\n",
    "    html.Div([\n",
    "        dcc.Graph(\n",
    "            id='crossfilter-indicator-scatter',\n",
    "            hoverData={'points': [{'customdata': 'Japan'}]}\n",
    "        )\n",
    "    ], style={'width': '49%', 'display': 'inline-block', 'padding': '0 20'}),\n",
    "    html.Div([\n",
    "        dcc.Graph(id='x-time-series'),\n",
    "        dcc.Graph(id='y-time-series'),\n",
    "    ], style={'display': 'inline-block', 'width': '49%'}),\n",
    "])\n",
    "\n",
    "\n",
    "@app.callback(\n",
    "    dash.dependencies.Output('crossfilter-indicator-scatter', 'figure'),\n",
    "    [dash.dependencies.Input('crossfilter-xaxis-column', 'value'),\n",
    "     dash.dependencies.Input('crossfilter-yaxis-column', 'value'),\n",
    "     dash.dependencies.Input('crossfilter-xaxis-type', 'value'),\n",
    "     dash.dependencies.Input('crossfilter-yaxis-type', 'value')])\n",
    "\n",
    "def update_graph(census, ycom, census_name, ycom_name):\n",
    "    return {\n",
    "        'data': [go.Heatmap(\n",
    "            x=census[census_name],\n",
    "            y=ycom[ycom_name],\n",
    "            #text=dff[dff['Indicator Name'] == yaxis_column_name]['Country Name'],\n",
    "            #customdata=dff[dff['Indicator Name'] == yaxis_column_name]['Country Name'],\n",
    "            colorscale='Viridis',\n",
    "            }\n",
    "        )],\n",
    "        'layout': go.Layout(\n",
    "            margin={'l': 40, 'b': 30, 't': 10, 'r': 0},\n",
    "            height=450,\n",
    "            hovermode='closest'\n",
    "        )\n",
    "    }\n",
    "\n",
    "\n",
    "def create_time_series(census, ycom, title):\n",
    "    return {\n",
    "        'data': [go.Scatter(\n",
    "            x=census[census_name],,\n",
    "            y=ycom[ycom_name],\n",
    "        )],\n",
    "        'layout': {\n",
    "            'height': 225,\n",
    "            'margin': {'l': 20, 'b': 30, 'r': 10, 't': 10},\n",
    "            'annotations': [{\n",
    "                'x': 0, 'y': 0.85, 'xanchor': 'left', 'yanchor': 'bottom',\n",
    "                'xref': 'paper', 'yref': 'paper', 'showarrow': False,\n",
    "                'align': 'left', 'bgcolor': 'rgba(255, 255, 255, 0.5)',\n",
    "                'text': title\n",
    "            }],\n",
    "            'xaxis': {'showgrid': False}\n",
    "        }\n",
    "    }\n",
    "\n",
    "\n",
    "@app.callback(\n",
    "    dash.dependencies.Output('x-time-series', 'figure'),\n",
    "    [dash.dependencies.Input('crossfilter-indicator-scatter', 'hoverData'),\n",
    "     dash.dependencies.Input('crossfilter-xaxis-column', 'value'),\n",
    "     dash.dependencies.Input('crossfilter-xaxis-type', 'value')])\n",
    "#def update_y_timeseries(hoverData, xaxis_column_name, axis_type):\n",
    "    #country_name = hoverData['points'][0]['customdata']\n",
    "    #dff = df[df['Country Name'] == country_name]\n",
    "    #dff = dff[dff['Indicator Name'] == xaxis_column_name]\n",
    "    #title = '<b>{}</b><br>{}'.format(country_name, xaxis_column_name)\n",
    "    #return create_time_series(dff, axis_type, title)\n",
    "\n",
    "\n",
    "@app.callback(\n",
    "    dash.dependencies.Output('y-time-series', 'figure'),\n",
    "    [dash.dependencies.Input('crossfilter-indicator-scatter', 'hoverData'),\n",
    "     dash.dependencies.Input('crossfilter-yaxis-column', 'value'),\n",
    "     dash.dependencies.Input('crossfilter-yaxis-type', 'value')])\n",
    "def update_x_timeseries(hoverData, yaxis_column_name, axis_type):\n",
    "    dff = df[df['Country Name'] == hoverData['points'][0]['customdata']]\n",
    "    dff = dff[dff['Indicator Name'] == yaxis_column_name]\n",
    "    return create_time_series(dff, axis_type, yaxis_column_name)\n",
    "\n",
    "\n",
    "if __name__ == '__main__':\n",
    "    app.run_server(debug=True)"
   ]
  },
  {
   "cell_type": "code",
   "execution_count": 163,
   "metadata": {},
   "outputs": [
    {
     "data": {
      "text/plain": [
       "0       56.902\n",
       "1       50.774\n",
       "2       52.169\n",
       "3       55.654\n",
       "4       50.788\n",
       "5       63.332\n",
       "6       56.957\n",
       "7       60.877\n",
       "8       57.104\n",
       "9       64.117\n",
       "10      56.250\n",
       "11      54.283\n",
       "12      64.424\n",
       "13      51.453\n",
       "14      58.898\n",
       "15      50.736\n",
       "16      53.108\n",
       "17      52.622\n",
       "18      49.220\n",
       "19      51.549\n",
       "20      54.989\n",
       "21      61.446\n",
       "22      61.956\n",
       "23      56.934\n",
       "24      55.329\n",
       "25      52.390\n",
       "26      52.516\n",
       "27      50.121\n",
       "28      50.841\n",
       "29      56.557\n",
       "         ...  \n",
       "4532    54.245\n",
       "4533    46.579\n",
       "4534    52.048\n",
       "4535    48.632\n",
       "4536    54.610\n",
       "4537    52.021\n",
       "4538    49.768\n",
       "4539    50.327\n",
       "4540    46.311\n",
       "4541    48.573\n",
       "4542    53.439\n",
       "4543    48.344\n",
       "4544    55.249\n",
       "4545    51.100\n",
       "4546    51.015\n",
       "4547    56.146\n",
       "4548    52.202\n",
       "4549    52.779\n",
       "4550    44.965\n",
       "4551    52.252\n",
       "4552    59.111\n",
       "4553    54.451\n",
       "4554    57.476\n",
       "4555    50.776\n",
       "4556    49.796\n",
       "4557    53.187\n",
       "4558    55.033\n",
       "4559    57.061\n",
       "4560    49.309\n",
       "4561    68.462\n",
       "Name: human, Length: 4562, dtype: float64"
      ]
     },
     "execution_count": 163,
     "metadata": {},
     "output_type": "execute_result"
    }
   ],
   "source": [
    "ycom.head()\n"
   ]
  },
  {
   "cell_type": "code",
   "execution_count": 177,
   "metadata": {},
   "outputs": [
    {
     "data": {
      "text/plain": [
       "0        26745\n",
       "1        95314\n",
       "2        14497\n",
       "3        12073\n",
       "4        28512\n",
       "5         5660\n",
       "6         9502\n",
       "7        56274\n",
       "8        16258\n",
       "9        12975\n",
       "10       21619\n",
       "11        6382\n",
       "12       11834\n",
       "13        6671\n",
       "14        7334\n",
       "15       25174\n",
       "16       26303\n",
       "17        6176\n",
       "18        5579\n",
       "19       18339\n",
       "20        6863\n",
       "21       40081\n",
       "22       24708\n",
       "23       19450\n",
       "24       35474\n",
       "25       39362\n",
       "26       19524\n",
       "27       50207\n",
       "28        8477\n",
       "29       15311\n",
       "         ...  \n",
       "3112      7799\n",
       "3113     65880\n",
       "3114    193441\n",
       "3115     26378\n",
       "3116     12783\n",
       "3117     85019\n",
       "3118     36594\n",
       "3119     19692\n",
       "3120      6002\n",
       "3121     24914\n",
       "3122      8592\n",
       "3123      7118\n",
       "3124      3716\n",
       "3125     20358\n",
       "3126      7180\n",
       "3127      2394\n",
       "3128      4525\n",
       "3129     47911\n",
       "3130      9356\n",
       "3131     40495\n",
       "3132      1164\n",
       "3133     14230\n",
       "3134      4495\n",
       "3135     14695\n",
       "3136      5353\n",
       "3137     23359\n",
       "3138     11537\n",
       "3139     10636\n",
       "3140      4144\n",
       "3141      3695\n",
       "Name: Men, Length: 3142, dtype: int64"
      ]
     },
     "execution_count": 177,
     "metadata": {},
     "output_type": "execute_result"
    }
   ],
   "source": [
    "census['Men']"
   ]
  },
  {
   "cell_type": "code",
   "execution_count": 174,
   "metadata": {},
   "outputs": [
    {
     "data": {
      "text/plain": [
       "'Men'"
      ]
     },
     "execution_count": 174,
     "metadata": {},
     "output_type": "execute_result"
    }
   ],
   "source": [
    "n_census[0]"
   ]
  },
  {
   "cell_type": "code",
   "execution_count": null,
   "metadata": {
    "collapsed": true
   },
   "outputs": [],
   "source": []
  }
 ],
 "metadata": {
  "kernelspec": {
   "display_name": "Python 3",
   "language": "python",
   "name": "python3"
  },
  "language_info": {
   "codemirror_mode": {
    "name": "ipython",
    "version": 3
   },
   "file_extension": ".py",
   "mimetype": "text/x-python",
   "name": "python",
   "nbconvert_exporter": "python",
   "pygments_lexer": "ipython3",
   "version": "3.6.1"
  }
 },
 "nbformat": 4,
 "nbformat_minor": 2
}
